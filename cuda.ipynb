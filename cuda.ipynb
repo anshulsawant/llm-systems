{
  "cells": [
    {
      "cell_type": "markdown",
      "metadata": {
        "id": "view-in-github",
        "colab_type": "text"
      },
      "source": [
        "<a href=\"https://colab.research.google.com/github/anshulsawant/llm-systems/blob/main/cuda.ipynb\" target=\"_parent\"><img src=\"https://colab.research.google.com/assets/colab-badge.svg\" alt=\"Open In Colab\"/></a>"
      ]
    },
    {
      "cell_type": "markdown",
      "id": "b34981f1-9278-4ee8-a2de-57c6245041a7",
      "metadata": {
        "id": "b34981f1-9278-4ee8-a2de-57c6245041a7"
      },
      "source": [
        "# Getting started with CUDA"
      ]
    },
    {
      "cell_type": "markdown",
      "id": "21fce84e-7b13-446e-9504-eb037dc26d03",
      "metadata": {
        "id": "21fce84e-7b13-446e-9504-eb037dc26d03"
      },
      "source": [
        "## Setup"
      ]
    },
    {
      "cell_type": "code",
      "execution_count": 70,
      "id": "f92d55a1-7ded-4a1d-9615-4e12b7084134",
      "metadata": {
        "id": "f92d55a1-7ded-4a1d-9615-4e12b7084134"
      },
      "outputs": [],
      "source": [
        "import torch, os, math\n",
        "import torchvision as tv\n",
        "import torchvision.transforms.functional as tvf\n",
        "from torchvision import io\n",
        "import matplotlib.pyplot as plt\n",
        "from torch.utils.cpp_extension import load_inline"
      ]
    },
    {
      "cell_type": "code",
      "source": [
        "!pip install wurlitzer ninja"
      ],
      "metadata": {
        "id": "5B5oCmdTC0Io",
        "outputId": "057bbb44-e82e-4d56-e208-9bb0742d7789",
        "colab": {
          "base_uri": "https://localhost:8080/"
        }
      },
      "id": "5B5oCmdTC0Io",
      "execution_count": 71,
      "outputs": [
        {
          "output_type": "stream",
          "name": "stdout",
          "text": [
            "Requirement already satisfied: wurlitzer in /usr/local/lib/python3.11/dist-packages (3.1.1)\n",
            "Requirement already satisfied: ninja in /usr/local/lib/python3.11/dist-packages (1.11.1.3)\n"
          ]
        }
      ]
    },
    {
      "cell_type": "markdown",
      "id": "d9fa891f-fc66-4467-8ec7-9f075e363d73",
      "metadata": {
        "id": "d9fa891f-fc66-4467-8ec7-9f075e363d73"
      },
      "source": [
        "### Python Block Kernel"
      ]
    },
    {
      "cell_type": "markdown",
      "id": "57d149f7-3e31-42ee-a4ff-27f0e03919a1",
      "metadata": {
        "id": "57d149f7-3e31-42ee-a4ff-27f0e03919a1"
      },
      "source": [
        "1. **Streaming Multiprocessors (SMs):** In NVIDIA GPUs, SMs are the fundamental units of execution. Each SM can execute multiple threads concurrently.\n",
        "2. **Thread Blocks:** A thread block is a group of threads that can cooperate among themselves through shared memory and synchronization. All threads in a block are executed on the same SM. This means they can share resources such as shared memory and can synchronize their execution with each other.\n",
        "3. **Shared Memory:** Shared memory is a small memory space on the GPU that is shared among the threads in a block. It is much faster than global memory (the main GPU memory), but it is also limited in size. Threads in the same block can use shared memory to share data with each other efficiently.\n",
        "\n",
        "- The RTX 3090, based on the Ampere architecture, has 82 SMs.\n",
        "- Each SM in GA10x GPUs contain 128 CUDA Cores, four third-generation Tensor Cores, a 256 KB Register File, and 128 KB of L1/Shared Memory\n",
        "- In CUDA, all threads in a block have the potential to run concurrently. However, the actual concurrency depends on the number of CUDA cores per SM and the resources required by the threads."
      ]
    },
    {
      "cell_type": "markdown",
      "id": "7ce90684-6133-477c-b71e-30815dfeb393",
      "metadata": {
        "id": "7ce90684-6133-477c-b71e-30815dfeb393"
      },
      "source": [
        "### CUDA Setup"
      ]
    },
    {
      "cell_type": "code",
      "execution_count": 72,
      "id": "27d5004d-6e4b-494f-8be0-30514e17f539",
      "metadata": {
        "id": "27d5004d-6e4b-494f-8be0-30514e17f539"
      },
      "outputs": [],
      "source": [
        "## This is slow but good for dev.\n",
        "os.environ['CUDA_LAUNCH_BLOCKING']='1'"
      ]
    },
    {
      "cell_type": "code",
      "execution_count": 73,
      "id": "e95a2197-a06f-47ee-916d-04a6928199bb",
      "metadata": {
        "id": "e95a2197-a06f-47ee-916d-04a6928199bb",
        "colab": {
          "base_uri": "https://localhost:8080/"
        },
        "outputId": "40bb8a6e-c0f1-4ba4-cdc5-99e85865c894"
      },
      "outputs": [
        {
          "output_type": "stream",
          "name": "stdout",
          "text": [
            "The wurlitzer extension is already loaded. To reload it, use:\n",
            "  %reload_ext wurlitzer\n"
          ]
        }
      ],
      "source": [
        "%load_ext wurlitzer"
      ]
    },
    {
      "cell_type": "code",
      "execution_count": 74,
      "id": "4d22883b-477a-4560-be1e-e51448ca2e25",
      "metadata": {
        "id": "4d22883b-477a-4560-be1e-e51448ca2e25"
      },
      "outputs": [],
      "source": [
        "def load_cuda(cuda_src, cpp_src, funcs, opt=False, verbose=False):\n",
        "    return load_inline(cuda_sources=[cuda_src], cpp_sources=[cpp_src], functions=funcs,\n",
        "                       extra_cuda_cflags=[\"-O2\"] if opt else [], verbose=verbose, name=\"inline_ext\")"
      ]
    },
    {
      "cell_type": "code",
      "execution_count": 75,
      "id": "6dbaa081-ad95-404b-ad93-0a4358bf450b",
      "metadata": {
        "id": "6dbaa081-ad95-404b-ad93-0a4358bf450b"
      },
      "outputs": [],
      "source": [
        "cuda_begin = r'''\n",
        "#include <torch/extension.h>\n",
        "#include <stdio.h>\n",
        "#include <c10/cuda/CUDAException.h>\n",
        "\n",
        "#define CHECK_CUDA(x) TORCH_CHECK(x.device().is_cuda(), #x \" must be a CUDA tensor\")\n",
        "#define CHECK_CONTIGUOUS(x) TORCH_CHECK(x.is_contiguous(), #x \" must be contiguous\")\n",
        "#define CHECK_INPUT(x) CHECK_CUDA(x); CHECK_CONTIGUOUS(x)\n",
        "\n",
        "inline unsigned int cdiv(unsigned int a, unsigned int b) { return (a + b - 1) / b;}\n",
        "'''"
      ]
    },
    {
      "cell_type": "markdown",
      "id": "1e79577e-2bd0-4bc7-98d7-c37d2594d14d",
      "metadata": {
        "id": "1e79577e-2bd0-4bc7-98d7-c37d2594d14d"
      },
      "source": [
        "<img src=\"attachment:4590626e-3f24-4381-a14b-50162f737579.png\" width=\"500\">"
      ]
    },
    {
      "cell_type": "markdown",
      "id": "dd968fbe-60df-4644-ac31-2099ee8207d7",
      "metadata": {
        "id": "dd968fbe-60df-4644-ac31-2099ee8207d7"
      },
      "source": [
        "## Matmul"
      ]
    },
    {
      "cell_type": "markdown",
      "id": "f9a4e3c4-c7d6-4c3c-a6c7-f6202d78b6aa",
      "metadata": {
        "id": "f9a4e3c4-c7d6-4c3c-a6c7-f6202d78b6aa"
      },
      "source": [
        "### Get data"
      ]
    },
    {
      "cell_type": "code",
      "execution_count": 76,
      "id": "b14b9d40-e252-424a-9d44-f7cea3fcdfb4",
      "metadata": {
        "id": "b14b9d40-e252-424a-9d44-f7cea3fcdfb4"
      },
      "outputs": [],
      "source": [
        "import gzip,pickle\n",
        "from urllib.request import urlretrieve\n",
        "from pathlib import Path\n",
        "from torch import tensor"
      ]
    },
    {
      "cell_type": "code",
      "execution_count": 77,
      "id": "78a41712-b8e5-45ca-8c2a-fe56d5c9a15e",
      "metadata": {
        "id": "78a41712-b8e5-45ca-8c2a-fe56d5c9a15e"
      },
      "outputs": [],
      "source": [
        "MNIST_URL='https://github.com/mnielsen/neural-networks-and-deep-learning/blob/master/data/mnist.pkl.gz?raw=true'\n",
        "path_data = Path('data')\n",
        "path_data.mkdir(exist_ok=True)\n",
        "path_gz = path_data/'mnist.pkl.gz'\n",
        "if not path_gz.exists(): urlretrieve(MNIST_URL, path_gz)"
      ]
    },
    {
      "cell_type": "code",
      "execution_count": 78,
      "id": "65b7bd23-03e0-4f4a-b890-bd9084f4adff",
      "metadata": {
        "id": "65b7bd23-03e0-4f4a-b890-bd9084f4adff",
        "outputId": "77b00a4b-2c23-40c2-b6ba-54d3e2c1f9d3",
        "colab": {
          "base_uri": "https://localhost:8080/"
        }
      },
      "outputs": [
        {
          "output_type": "execute_result",
          "data": {
            "text/plain": [
              "(torch.Size([50000, 784]), 'torch.FloatTensor')"
            ]
          },
          "metadata": {},
          "execution_count": 78
        }
      ],
      "source": [
        "with gzip.open(path_gz, 'rb') as f: ((x_train, y_train), (x_valid, y_valid), _) = pickle.load(f, encoding='latin-1')\n",
        "x_train,y_train,x_valid,y_valid = map(tensor, (x_train,y_train,x_valid,y_valid))\n",
        "x_train.shape,x_train.type()"
      ]
    },
    {
      "cell_type": "code",
      "execution_count": 79,
      "id": "802a9f81-cd22-4bdd-a327-d7c25a4e9659",
      "metadata": {
        "id": "802a9f81-cd22-4bdd-a327-d7c25a4e9659",
        "outputId": "ade3471f-4a8b-4914-eb48-c5c2e3ef1d5b",
        "colab": {
          "base_uri": "https://localhost:8080/"
        }
      },
      "outputs": [
        {
          "output_type": "execute_result",
          "data": {
            "text/plain": [
              "torch.Size([50000, 28, 28])"
            ]
          },
          "metadata": {},
          "execution_count": 79
        }
      ],
      "source": [
        "imgs = x_train.reshape((-1,28,28))\n",
        "imgs.shape"
      ]
    },
    {
      "cell_type": "code",
      "execution_count": 80,
      "id": "c0e6cb3a-ea3d-40a3-b09d-9e41e0622467",
      "metadata": {
        "id": "c0e6cb3a-ea3d-40a3-b09d-9e41e0622467",
        "outputId": "f1ba4782-3db9-4f17-8e4a-aabad3f0fe90",
        "colab": {
          "base_uri": "https://localhost:8080/",
          "height": 114
        }
      },
      "outputs": [
        {
          "output_type": "display_data",
          "data": {
            "text/plain": [
              "<Figure size 100x100 with 1 Axes>"
            ],
            "image/png": "[encoded data removed]"
          },
          "metadata": {}
        }
      ],
      "source": [
        "show_img(imgs[0], cmap='gray_r', figsize=(1,1))"
      ]
    },
    {
      "cell_type": "code",
      "execution_count": 81,
      "id": "96db03a1-470f-4281-aec8-f380a2042df3",
      "metadata": {
        "id": "96db03a1-470f-4281-aec8-f380a2042df3",
        "outputId": "dcb1d733-59e2-4519-aede-29476dcc3736",
        "colab": {
          "base_uri": "https://localhost:8080/"
        }
      },
      "outputs": [
        {
          "output_type": "execute_result",
          "data": {
            "text/plain": [
              "tensor([[-1.53, -0.75, -0.65,  ..., -1.61, -0.71,  0.30],\n",
              "        [-0.78, -0.25, -0.22,  ..., -1.16,  0.70,  0.20],\n",
              "        [ 0.87,  0.24, -0.66,  ..., -1.45,  0.06, -0.62],\n",
              "        ...,\n",
              "        [ 0.51,  0.47, -0.26,  ...,  0.65,  0.43, -1.29],\n",
              "        [ 0.52,  1.03,  0.81,  ..., -0.10,  2.26, -0.28],\n",
              "        [-1.49,  0.39, -0.55,  ..., -0.19, -0.51,  0.54]])"
            ]
          },
          "metadata": {},
          "execution_count": 81
        }
      ],
      "source": [
        "torch.manual_seed(1)\n",
        "weights = torch.randn(784,10)\n",
        "weights"
      ]
    },
    {
      "cell_type": "markdown",
      "id": "e27dd979-a35d-43a8-9b72-9918a2f7fb6c",
      "metadata": {
        "id": "e27dd979-a35d-43a8-9b72-9918a2f7fb6c"
      },
      "source": [
        "### Python matmul"
      ]
    },
    {
      "cell_type": "code",
      "execution_count": 82,
      "id": "eb141f6e-9813-44cc-b153-ccad49347648",
      "metadata": {
        "id": "eb141f6e-9813-44cc-b153-ccad49347648",
        "outputId": "f1b60761-1898-4d43-d7c4-0486bbfc3d15",
        "colab": {
          "base_uri": "https://localhost:8080/"
        }
      },
      "outputs": [
        {
          "output_type": "execute_result",
          "data": {
            "text/plain": [
              "(torch.Size([5, 784]), torch.Size([784, 10]))"
            ]
          },
          "metadata": {},
          "execution_count": 82
        }
      ],
      "source": [
        "m1 = x_valid[:5]\n",
        "m2 = weights\n",
        "m1.shape,m2.shape"
      ]
    },
    {
      "cell_type": "code",
      "execution_count": 83,
      "id": "7247f303-e8fb-46eb-bbc9-abaa165f0ee3",
      "metadata": {
        "id": "7247f303-e8fb-46eb-bbc9-abaa165f0ee3",
        "outputId": "30bf3359-50f1-4b13-9c97-1a4b06351992",
        "colab": {
          "base_uri": "https://localhost:8080/"
        }
      },
      "outputs": [
        {
          "output_type": "execute_result",
          "data": {
            "text/plain": [
              "((5, 784), (784, 10))"
            ]
          },
          "metadata": {},
          "execution_count": 83
        }
      ],
      "source": [
        "ar,ac = m1.shape # n_rows * n_cols\n",
        "br,bc = m2.shape\n",
        "(ar,ac),(br,bc)"
      ]
    },
    {
      "cell_type": "code",
      "execution_count": 84,
      "id": "3f71d055-b2ec-4e9f-87f1-1d1da5937452",
      "metadata": {
        "id": "3f71d055-b2ec-4e9f-87f1-1d1da5937452",
        "outputId": "a5c9e747-7114-4143-e634-bc89a6aa9ca4",
        "colab": {
          "base_uri": "https://localhost:8080/"
        }
      },
      "outputs": [
        {
          "output_type": "execute_result",
          "data": {
            "text/plain": [
              "torch.Size([5, 10])"
            ]
          },
          "metadata": {},
          "execution_count": 84
        }
      ],
      "source": [
        "t1 = torch.zeros(ar, bc)\n",
        "t1.shape"
      ]
    },
    {
      "cell_type": "code",
      "execution_count": 85,
      "id": "034e2c1c-b8d9-4869-b62a-975c4d061895",
      "metadata": {
        "id": "034e2c1c-b8d9-4869-b62a-975c4d061895"
      },
      "outputs": [],
      "source": [
        "for i in range(ar):         # 5\n",
        "    for j in range(bc):     # 10\n",
        "        for k in range(ac): # 784\n",
        "            t1[i,j] += m1[i,k] * m2[k,j]"
      ]
    },
    {
      "cell_type": "code",
      "execution_count": 86,
      "id": "680b7e85-bef0-4afd-896a-01cbfe4c335e",
      "metadata": {
        "id": "680b7e85-bef0-4afd-896a-01cbfe4c335e",
        "outputId": "18831c1e-dd6d-432e-b9b9-6f6be892d8dc",
        "colab": {
          "base_uri": "https://localhost:8080/"
        }
      },
      "outputs": [
        {
          "output_type": "execute_result",
          "data": {
            "text/plain": [
              "torch.Size([5, 10])"
            ]
          },
          "metadata": {},
          "execution_count": 86
        }
      ],
      "source": [
        "t1.shape"
      ]
    },
    {
      "cell_type": "code",
      "execution_count": 87,
      "id": "fac45192-62e2-4245-b0aa-a4ba00e3f47f",
      "metadata": {
        "id": "fac45192-62e2-4245-b0aa-a4ba00e3f47f"
      },
      "outputs": [],
      "source": [
        "import numpy as np\n",
        "np.set_printoptions(precision=2, linewidth=140)\n",
        "torch.set_printoptions(precision=2, linewidth=140, sci_mode=False)"
      ]
    },
    {
      "cell_type": "code",
      "execution_count": 88,
      "id": "bef8a62a-e188-4dd0-8b98-b7a37d3888ba",
      "metadata": {
        "id": "bef8a62a-e188-4dd0-8b98-b7a37d3888ba",
        "outputId": "0997db3d-6d15-4634-faed-6a9f905e631c",
        "colab": {
          "base_uri": "https://localhost:8080/"
        }
      },
      "outputs": [
        {
          "output_type": "execute_result",
          "data": {
            "text/plain": [
              "tensor([[-10.94,  -0.68,  -7.00,  -4.01,  -2.09,  -3.36,   3.91,  -3.44, -11.47,  -2.12],\n",
              "        [ 14.54,   6.00,   2.89,  -4.08,   6.59, -14.74,  -9.28,   2.16, -15.28,  -2.68],\n",
              "        [  2.22,  -3.22,  -4.80,  -6.05,  14.17,  -8.98,  -4.79,  -5.44, -20.68,  13.57],\n",
              "        [ -6.71,   8.90,  -7.46,  -7.90,   2.70,  -4.73, -11.03, -12.98,  -6.44,   3.64],\n",
              "        [ -2.44,  -6.40,  -2.40,  -9.04,  11.18,  -5.77,  -8.92,  -3.79,  -8.98,   5.28]])"
            ]
          },
          "metadata": {},
          "execution_count": 88
        }
      ],
      "source": [
        "t1"
      ]
    },
    {
      "cell_type": "code",
      "execution_count": 89,
      "id": "09804bc3-43e8-463b-8365-e962907ab088",
      "metadata": {
        "id": "09804bc3-43e8-463b-8365-e962907ab088"
      },
      "outputs": [],
      "source": [
        "def matmul(a,b):\n",
        "    (ar,ac),(br,bc) = a.shape,b.shape\n",
        "    c = torch.zeros(ar, bc)\n",
        "    for i in range(ar):\n",
        "        for j in range(bc):\n",
        "            for k in range(ac): c[i,j] += a[i,k] * b[k,j]\n",
        "    return c"
      ]
    },
    {
      "cell_type": "code",
      "execution_count": 90,
      "id": "d7d64a58-5422-4e2e-af1c-16f1cbdab391",
      "metadata": {
        "id": "d7d64a58-5422-4e2e-af1c-16f1cbdab391",
        "outputId": "e4abd080-a6fc-4165-d8d6-294a0b71c5e8",
        "colab": {
          "base_uri": "https://localhost:8080/"
        }
      },
      "outputs": [
        {
          "output_type": "stream",
          "name": "stdout",
          "text": [
            "CPU times: user 773 ms, sys: 3.65 ms, total: 777 ms\n",
            "Wall time: 780 ms\n"
          ]
        }
      ],
      "source": [
        "%time _=matmul(m1, m2)"
      ]
    },
    {
      "cell_type": "code",
      "execution_count": 91,
      "id": "0fb0c5e7-d01a-4900-a32e-eb6424f8439c",
      "metadata": {
        "id": "0fb0c5e7-d01a-4900-a32e-eb6424f8439c",
        "outputId": "b539ab78-d828-4e1b-9b30-2dc28ec7ac91",
        "colab": {
          "base_uri": "https://localhost:8080/"
        }
      },
      "outputs": [
        {
          "output_type": "execute_result",
          "data": {
            "text/plain": [
              "39200"
            ]
          },
          "metadata": {},
          "execution_count": 91
        }
      ],
      "source": [
        "ar*bc*ac"
      ]
    },
    {
      "cell_type": "markdown",
      "id": "b4ac4099-e90d-4f19-a6e2-a24df81c9739",
      "metadata": {
        "id": "b4ac4099-e90d-4f19-a6e2-a24df81c9739"
      },
      "source": [
        "### 2d Python kernel"
      ]
    },
    {
      "cell_type": "code",
      "execution_count": 92,
      "id": "434e5f38-5da2-4bac-9d95-e9d2b2042ff2",
      "metadata": {
        "id": "434e5f38-5da2-4bac-9d95-e9d2b2042ff2"
      },
      "outputs": [],
      "source": [
        "from types import SimpleNamespace as ns"
      ]
    },
    {
      "cell_type": "code",
      "execution_count": 93,
      "id": "2ef592ed-b605-46f5-b72d-662ab46a55e8",
      "metadata": {
        "id": "2ef592ed-b605-46f5-b72d-662ab46a55e8"
      },
      "outputs": [],
      "source": [
        "def blk_kernel2d(f, blocks, threads, *args):\n",
        "    for i0 in range(blocks.y):\n",
        "        for i1 in range(blocks.x):\n",
        "            for j0 in range(threads.y):\n",
        "                for j1 in range(threads.x): f(ns(x=i1,y=i0), ns(x=j1,y=j0), threads, *args)"
      ]
    },
    {
      "cell_type": "code",
      "execution_count": 94,
      "id": "62f8923f-8072-4f52-a644-6576f7dfe352",
      "metadata": {
        "id": "62f8923f-8072-4f52-a644-6576f7dfe352"
      },
      "outputs": [],
      "source": [
        "def matmul_bk(blockidx, threadidx, blockdim, m, n, out, h, w, k):\n",
        "    r = blockidx.y*blockdim.y + threadidx.y\n",
        "    c = blockidx.x*blockdim.x + threadidx.x\n",
        "\n",
        "    if (r>=h or c>=w): return\n",
        "    o = 0.\n",
        "    for i in range(k): o += m[r*k+i] * n[i*w+c]\n",
        "    out[r*w+c] = o"
      ]
    },
    {
      "cell_type": "code",
      "execution_count": 95,
      "id": "a53c2202-1169-4ac6-a477-82b82f3c5201",
      "metadata": {
        "id": "a53c2202-1169-4ac6-a477-82b82f3c5201"
      },
      "outputs": [],
      "source": [
        "def matmul_2d(m, n):\n",
        "    h,k  = m.shape\n",
        "    k2,w = n.shape\n",
        "    assert k==k2, \"Size mismatch!\"\n",
        "    output = torch.zeros(h, w, dtype=m.dtype)\n",
        "    tpb = ns(x=16,y=16)\n",
        "    blocks = ns(x=math.ceil(w/tpb.x), y=math.ceil(h/tpb.y))\n",
        "    blk_kernel2d(matmul_bk, blocks, tpb,\n",
        "                 m.flatten(), n.flatten(), output.flatten(), h, w, k)\n",
        "    return output"
      ]
    },
    {
      "cell_type": "code",
      "execution_count": 96,
      "id": "dc868ac2-7e60-4a1e-8bba-b40e452b6ef9",
      "metadata": {
        "id": "dc868ac2-7e60-4a1e-8bba-b40e452b6ef9",
        "outputId": "f91ad4fb-28bd-4cc0-865f-b61309e20596",
        "colab": {
          "base_uri": "https://localhost:8080/"
        }
      },
      "outputs": [
        {
          "output_type": "execute_result",
          "data": {
            "text/plain": [
              "tensor(True)"
            ]
          },
          "metadata": {},
          "execution_count": 96
        }
      ],
      "source": [
        "res = matmul_2d(m1, m2)\n",
        "torch.isclose(t1, res).all()"
      ]
    },
    {
      "cell_type": "markdown",
      "id": "903ab09b-bb28-47c2-9c82-94863056c149",
      "metadata": {
        "id": "903ab09b-bb28-47c2-9c82-94863056c149"
      },
      "source": [
        "### Broadcasting"
      ]
    },
    {
      "cell_type": "code",
      "execution_count": 97,
      "id": "7b52029b-8570-4557-b162-d400f5b669d4",
      "metadata": {
        "id": "7b52029b-8570-4557-b162-d400f5b669d4"
      },
      "outputs": [],
      "source": [
        "def matmul(a,b):\n",
        "    (ar,ac),(br,bc) = a.shape,b.shape\n",
        "    c = torch.zeros(ar, bc)\n",
        "    for i in range(ar): c[i] = (a[i,:,None] * b).sum(dim=0)\n",
        "    return c"
      ]
    },
    {
      "cell_type": "code",
      "execution_count": 98,
      "id": "10e2bda8-4823-459a-b618-82b9b20c8308",
      "metadata": {
        "id": "10e2bda8-4823-459a-b618-82b9b20c8308",
        "outputId": "1c729c43-881d-4525-9344-5f761b6e3cc0",
        "colab": {
          "base_uri": "https://localhost:8080/"
        }
      },
      "outputs": [
        {
          "output_type": "execute_result",
          "data": {
            "text/plain": [
              "tensor(True)"
            ]
          },
          "metadata": {},
          "execution_count": 98
        }
      ],
      "source": [
        "torch.isclose(t1,matmul(m1, m2)).all()"
      ]
    },
    {
      "cell_type": "code",
      "execution_count": 99,
      "id": "f4bbd2b4-b79a-41fe-a3de-ecb0673503b3",
      "metadata": {
        "id": "f4bbd2b4-b79a-41fe-a3de-ecb0673503b3",
        "outputId": "4806c5f2-f9b6-4407-e821-c655eb6a7023",
        "colab": {
          "base_uri": "https://localhost:8080/"
        }
      },
      "outputs": [
        {
          "output_type": "stream",
          "name": "stdout",
          "text": [
            "CPU times: user 990 µs, sys: 872 µs, total: 1.86 ms\n",
            "Wall time: 1.57 ms\n"
          ]
        }
      ],
      "source": [
        "%time _=matmul(m1, m2)"
      ]
    },
    {
      "cell_type": "code",
      "execution_count": 100,
      "id": "88649ae9-4056-450f-bdfa-4d30a7183248",
      "metadata": {
        "id": "88649ae9-4056-450f-bdfa-4d30a7183248",
        "outputId": "9bb19e4e-3ab2-4551-b0c3-89095bce2d19",
        "colab": {
          "base_uri": "https://localhost:8080/"
        }
      },
      "outputs": [
        {
          "output_type": "execute_result",
          "data": {
            "text/plain": [
              "torch.Size([50000, 10])"
            ]
          },
          "metadata": {},
          "execution_count": 100
        }
      ],
      "source": [
        "m1 = x_train\n",
        "tr = matmul(m1, m2)\n",
        "tr.shape"
      ]
    },
    {
      "cell_type": "code",
      "execution_count": 101,
      "id": "3a5dffcd-1cfd-423e-9e71-e83e59a7dca3",
      "metadata": {
        "id": "3a5dffcd-1cfd-423e-9e71-e83e59a7dca3",
        "outputId": "0c585646-c81d-4a35-b89c-ea3fe9ffd353",
        "colab": {
          "base_uri": "https://localhost:8080/"
        }
      },
      "outputs": [
        {
          "output_type": "stream",
          "name": "stdout",
          "text": [
            "CPU times: user 1.66 s, sys: 6.27 ms, total: 1.66 s\n",
            "Wall time: 1.69 s\n"
          ]
        }
      ],
      "source": [
        "%time _=matmul(m1, m2)"
      ]
    },
    {
      "cell_type": "code",
      "execution_count": 102,
      "id": "d84742e1-4094-433d-97bd-7932482a63c1",
      "metadata": {
        "id": "d84742e1-4094-433d-97bd-7932482a63c1",
        "outputId": "3d75323d-0ab2-4462-8534-4126120b1b29",
        "colab": {
          "base_uri": "https://localhost:8080/"
        }
      },
      "outputs": [
        {
          "output_type": "execute_result",
          "data": {
            "text/plain": [
              "392000000"
            ]
          },
          "metadata": {},
          "execution_count": 102
        }
      ],
      "source": [
        "ar,ac = m1.shape\n",
        "br,bc = m2.shape\n",
        "ar*bc*ac"
      ]
    },
    {
      "cell_type": "markdown",
      "id": "af01b572-c0aa-41b0-8ba7-b48e3f899978",
      "metadata": {
        "id": "af01b572-c0aa-41b0-8ba7-b48e3f899978"
      },
      "source": [
        "### CUDA matmul"
      ]
    },
    {
      "cell_type": "code",
      "execution_count": 103,
      "id": "6dde8ea4-25c3-48fd-97d3-7a0d375dcd73",
      "metadata": {
        "id": "6dde8ea4-25c3-48fd-97d3-7a0d375dcd73"
      },
      "outputs": [],
      "source": [
        "cuda_src = cuda_begin + r'''\n",
        "__global__ void matmul_k(float* m, float* n, float* out, int h, int w, int k) {\n",
        "    int r = blockIdx.y*blockDim.y + threadIdx.y;\n",
        "    int c = blockIdx.x*blockDim.x + threadIdx.x;\n",
        "\n",
        "    if (r>=h || c>=w) return;\n",
        "    float o = 0;\n",
        "    for (int i = 0; i<k; ++i) o += m[r*k+i] * n[i*w+c];\n",
        "    out[r*w+c] = o;\n",
        "}\n",
        "\n",
        "torch::Tensor matmul(torch::Tensor m, torch::Tensor n) {\n",
        "    CHECK_INPUT(m); CHECK_INPUT(n);\n",
        "    int h = m.size(0);\n",
        "    int w = n.size(1);\n",
        "    int k = m.size(1);\n",
        "    TORCH_CHECK(k==n.size(0), \"Size mismatch!\");\n",
        "    auto output = torch::zeros({h, w}, m.options());\n",
        "\n",
        "    dim3 tpb(16,16);\n",
        "    dim3 blocks(cdiv(w, tpb.x), cdiv(h, tpb.y));\n",
        "    matmul_k<<<blocks, tpb>>>(\n",
        "        m.data_ptr<float>(), n.data_ptr<float>(), output.data_ptr<float>(), h, w, k);\n",
        "    C10_CUDA_KERNEL_LAUNCH_CHECK();\n",
        "    return output;\n",
        "}\n",
        "'''"
      ]
    },
    {
      "cell_type": "code",
      "execution_count": 104,
      "id": "0de6d749-3922-4a30-a00a-60f153d59907",
      "metadata": {
        "id": "0de6d749-3922-4a30-a00a-60f153d59907"
      },
      "outputs": [],
      "source": [
        "cpp_src = \"torch::Tensor matmul(torch::Tensor m, torch::Tensor n);\""
      ]
    },
    {
      "cell_type": "code",
      "execution_count": 105,
      "id": "25c0b6ea-c5cf-4bab-9f46-1de103e5ae68",
      "metadata": {
        "id": "25c0b6ea-c5cf-4bab-9f46-1de103e5ae68",
        "outputId": "9f425687-6f38-4d5c-c641-ab24a8d0de5b",
        "colab": {
          "base_uri": "https://localhost:8080/"
        }
      },
      "outputs": [
        {
          "output_type": "stream",
          "name": "stderr",
          "text": [
            "/usr/local/lib/python3.11/dist-packages/torch/utils/cpp_extension.py:1964: UserWarning: TORCH_CUDA_ARCH_LIST is not set, all archs for visible cards are included for compilation. \n",
            "If this is not desired, please set os.environ['TORCH_CUDA_ARCH_LIST'].\n",
            "  warnings.warn(\n"
          ]
        }
      ],
      "source": [
        "module = load_cuda(cuda_src, cpp_src, ['matmul'])"
      ]
    },
    {
      "cell_type": "code",
      "execution_count": 106,
      "id": "49b0aa26-b9b6-4f5b-8223-5d6afad88bfa",
      "metadata": {
        "id": "49b0aa26-b9b6-4f5b-8223-5d6afad88bfa"
      },
      "outputs": [],
      "source": [
        "m1c,m2c = m1.contiguous().cuda(), m2.contiguous().cuda()"
      ]
    },
    {
      "cell_type": "code",
      "execution_count": 107,
      "id": "09d45a98-0d7f-4e0e-b704-f979e53550cb",
      "metadata": {
        "id": "09d45a98-0d7f-4e0e-b704-f979e53550cb",
        "colab": {
          "base_uri": "https://localhost:8080/"
        },
        "outputId": "bfec828f-13cc-49a3-8784-e609b6062a52"
      },
      "outputs": [
        {
          "output_type": "execute_result",
          "data": {
            "text/plain": [
              "tensor(True)"
            ]
          },
          "metadata": {},
          "execution_count": 107
        }
      ],
      "source": [
        "torch.isclose(tr,module.matmul(m1c, m2c).cpu(), atol=1e-5).all()"
      ]
    },
    {
      "cell_type": "code",
      "execution_count": 108,
      "id": "5342f1f0-8684-4d6c-814f-ab4b10995ad3",
      "metadata": {
        "id": "5342f1f0-8684-4d6c-814f-ab4b10995ad3",
        "colab": {
          "base_uri": "https://localhost:8080/"
        },
        "outputId": "6fb5360a-c7b4-4efe-ffe1-69b883b8fb70"
      },
      "outputs": [
        {
          "output_type": "stream",
          "name": "stdout",
          "text": [
            "CPU times: user 6.38 ms, sys: 0 ns, total: 6.38 ms\n",
            "Wall time: 5.98 ms\n"
          ]
        },
        {
          "output_type": "execute_result",
          "data": {
            "text/plain": [
              "torch.Size([50000, 10])"
            ]
          },
          "metadata": {},
          "execution_count": 108
        }
      ],
      "source": [
        "%%time\n",
        "res=module.matmul(m1c, m2c).cpu()\n",
        "res.shape"
      ]
    },
    {
      "cell_type": "markdown",
      "id": "4c9bee22-2600-4f6c-a695-e6d9f0ee2177",
      "metadata": {
        "id": "4c9bee22-2600-4f6c-a695-e6d9f0ee2177"
      },
      "source": [
        "### Pytorch"
      ]
    },
    {
      "cell_type": "code",
      "execution_count": 109,
      "id": "44eb1f44-611d-4270-8054-4cd4217d3305",
      "metadata": {
        "id": "44eb1f44-611d-4270-8054-4cd4217d3305",
        "colab": {
          "base_uri": "https://localhost:8080/"
        },
        "outputId": "d4526fd8-1d11-4c43-dd81-d93456a9e6b7"
      },
      "outputs": [
        {
          "output_type": "execute_result",
          "data": {
            "text/plain": [
              "tensor(True)"
            ]
          },
          "metadata": {},
          "execution_count": 109
        }
      ],
      "source": [
        "torch.isclose(tr,(m1c@m2c).cpu(), atol=1e-5).all()"
      ]
    },
    {
      "cell_type": "code",
      "execution_count": 110,
      "id": "3d25db36-fad7-4678-9657-cc4efb874276",
      "metadata": {
        "id": "3d25db36-fad7-4678-9657-cc4efb874276",
        "colab": {
          "base_uri": "https://localhost:8080/"
        },
        "outputId": "eb8bdbdc-6295-4aa4-f516-9283cc8ff247"
      },
      "outputs": [
        {
          "output_type": "stream",
          "name": "stdout",
          "text": [
            "2.07 ms ± 30.2 µs per loop (mean ± std. dev. of 7 runs, 10 loops each)\n"
          ]
        }
      ],
      "source": [
        "%timeit -n 10 _=(m1c@m2c).cpu()"
      ]
    }
  ],
  "metadata": {
    "kernelspec": {
      "display_name": "Python 3",
      "name": "python3"
    },
    "colab": {
      "provenance": [],
      "gpuType": "T4",
      "include_colab_link": true
    },
    "accelerator": "GPU"
  },
  "nbformat": 4,
  "nbformat_minor": 5
}