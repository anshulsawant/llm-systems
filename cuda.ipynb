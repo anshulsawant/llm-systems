{
  "cells": [
    {
      "cell_type": "markdown",
      "metadata": {
        "id": "view-in-github",
        "colab_type": "text"
      },
      "source": [
        "<a href=\"https://colab.research.google.com/github/anshulsawant/llm-systems/blob/main/cuda.ipynb\" target=\"_parent\"><img src=\"https://colab.research.google.com/assets/colab-badge.svg\" alt=\"Open In Colab\"/></a>"
      ]
    },
    {
      "cell_type": "markdown",
      "id": "b34981f1-9278-4ee8-a2de-57c6245041a7",
      "metadata": {
        "id": "b34981f1-9278-4ee8-a2de-57c6245041a7"
      },
      "source": [
        "# Getting started with CUDA"
      ]
    },
    {
      "cell_type": "markdown",
      "id": "21fce84e-7b13-446e-9504-eb037dc26d03",
      "metadata": {
        "id": "21fce84e-7b13-446e-9504-eb037dc26d03"
      },
      "source": [
        "## Setup"
      ]
    },
    {
      "cell_type": "code",
      "execution_count": 70,
      "id": "f92d55a1-7ded-4a1d-9615-4e12b7084134",
      "metadata": {
        "id": "f92d55a1-7ded-4a1d-9615-4e12b7084134"
      },
      "outputs": [],
      "source": [
        "import torch, os, math\n",
        "import torchvision as tv\n",
        "import torchvision.transforms.functional as tvf\n",
        "from torchvision import io\n",
        "import matplotlib.pyplot as plt\n",
        "from torch.utils.cpp_extension import load_inline"
      ]
    },
    {
      "cell_type": "code",
      "source": [
        "!pip install wurlitzer ninja"
      ],
      "metadata": {
        "id": "5B5oCmdTC0Io",
        "outputId": "057bbb44-e82e-4d56-e208-9bb0742d7789",
        "colab": {
          "base_uri": "https://localhost:8080/"
        }
      },
      "id": "5B5oCmdTC0Io",
      "execution_count": 71,
      "outputs": [
        {
          "output_type": "stream",
          "name": "stdout",
          "text": [
            "Requirement already satisfied: wurlitzer in /usr/local/lib/python3.11/dist-packages (3.1.1)\n",
            "Requirement already satisfied: ninja in /usr/local/lib/python3.11/dist-packages (1.11.1.3)\n"
          ]
        }
      ]
    },
    {
      "cell_type": "markdown",
      "id": "d9fa891f-fc66-4467-8ec7-9f075e363d73",
      "metadata": {
        "id": "d9fa891f-fc66-4467-8ec7-9f075e363d73"
      },
      "source": [
        "### Python Block Kernel"
      ]
    },
    {
      "cell_type": "markdown",
      "id": "57d149f7-3e31-42ee-a4ff-27f0e03919a1",
      "metadata": {
        "id": "57d149f7-3e31-42ee-a4ff-27f0e03919a1"
      },
      "source": [
        "1. **Streaming Multiprocessors (SMs):** In NVIDIA GPUs, SMs are the fundamental units of execution. Each SM can execute multiple threads concurrently.\n",
        "2. **Thread Blocks:** A thread block is a group of threads that can cooperate among themselves through shared memory and synchronization. All threads in a block are executed on the same SM. This means they can share resources such as shared memory and can synchronize their execution with each other.\n",
        "3. **Shared Memory:** Shared memory is a small memory space on the GPU that is shared among the threads in a block. It is much faster than global memory (the main GPU memory), but it is also limited in size. Threads in the same block can use shared memory to share data with each other efficiently.\n",
        "\n",
        "- The RTX 3090, based on the Ampere architecture, has 82 SMs.\n",
        "- Each SM in GA10x GPUs contain 128 CUDA Cores, four third-generation Tensor Cores, a 256 KB Register File, and 128 KB of L1/Shared Memory\n",
        "- In CUDA, all threads in a block have the potential to run concurrently. However, the actual concurrency depends on the number of CUDA cores per SM and the resources required by the threads."
      ]
    },
    {
      "cell_type": "markdown",
      "id": "7ce90684-6133-477c-b71e-30815dfeb393",
      "metadata": {
        "id": "7ce90684-6133-477c-b71e-30815dfeb393"
      },
      "source": [
        "### CUDA Setup"
      ]
    },
    {
      "cell_type": "code",
      "execution_count": 72,
      "id": "27d5004d-6e4b-494f-8be0-30514e17f539",
      "metadata": {
        "id": "27d5004d-6e4b-494f-8be0-30514e17f539"
      },
      "outputs": [],
      "source": [
        "## This is slow but good for dev.\n",
        "os.environ['CUDA_LAUNCH_BLOCKING']='1'"
      ]
    },
    {
      "cell_type": "code",
      "execution_count": 73,
      "id": "e95a2197-a06f-47ee-916d-04a6928199bb",
      "metadata": {
        "id": "e95a2197-a06f-47ee-916d-04a6928199bb",
        "colab": {
          "base_uri": "https://localhost:8080/"
        },
        "outputId": "40bb8a6e-c0f1-4ba4-cdc5-99e85865c894"
      },
      "outputs": [
        {
          "output_type": "stream",
          "name": "stdout",
          "text": [
            "The wurlitzer extension is already loaded. To reload it, use:\n",
            "  %reload_ext wurlitzer\n"
          ]
        }
      ],
      "source": [
        "%load_ext wurlitzer"
      ]
    },
    {
      "cell_type": "code",
      "execution_count": 74,
      "id": "4d22883b-477a-4560-be1e-e51448ca2e25",
      "metadata": {
        "id": "4d22883b-477a-4560-be1e-e51448ca2e25"
      },
      "outputs": [],
      "source": [
        "def load_cuda(cuda_src, cpp_src, funcs, opt=False, verbose=False):\n",
        "    return load_inline(cuda_sources=[cuda_src], cpp_sources=[cpp_src], functions=funcs,\n",
        "                       extra_cuda_cflags=[\"-O2\"] if opt else [], verbose=verbose, name=\"inline_ext\")"
      ]
    },
    {
      "cell_type": "code",
      "execution_count": 75,
      "id": "6dbaa081-ad95-404b-ad93-0a4358bf450b",
      "metadata": {
        "id": "6dbaa081-ad95-404b-ad93-0a4358bf450b"
      },
      "outputs": [],
      "source": [
        "cuda_begin = r'''\n",
        "#include <torch/extension.h>\n",
        "#include <stdio.h>\n",
        "#include <c10/cuda/CUDAException.h>\n",
        "\n",
        "#define CHECK_CUDA(x) TORCH_CHECK(x.device().is_cuda(), #x \" must be a CUDA tensor\")\n",
        "#define CHECK_CONTIGUOUS(x) TORCH_CHECK(x.is_contiguous(), #x \" must be contiguous\")\n",
        "#define CHECK_INPUT(x) CHECK_CUDA(x); CHECK_CONTIGUOUS(x)\n",
        "\n",
        "inline unsigned int cdiv(unsigned int a, unsigned int b) { return (a + b - 1) / b;}\n",
        "'''"
      ]
    },
    {
      "cell_type": "markdown",
      "id": "1e79577e-2bd0-4bc7-98d7-c37d2594d14d",
      "metadata": {
        "id": "1e79577e-2bd0-4bc7-98d7-c37d2594d14d"
      },
      "source": [
        "<img src=\"attachment:4590626e-3f24-4381-a14b-50162f737579.png\" width=\"500\">"
      ]
    },
    {
      "cell_type": "markdown",
      "id": "dd968fbe-60df-4644-ac31-2099ee8207d7",
      "metadata": {
        "id": "dd968fbe-60df-4644-ac31-2099ee8207d7"
      },
      "source": [
        "## Matmul"
      ]
    },
    {
      "cell_type": "code",
      "execution_count": 76,
      "id": "b14b9d40-e252-424a-9d44-f7cea3fcdfb4",
      "metadata": {
        "id": "b14b9d40-e252-424a-9d44-f7cea3fcdfb4"
      },
      "outputs": [],
      "source": [
        "from torch import tensor"
      ]
    },
    {
      "cell_type": "code",
      "execution_count": 81,
      "id": "96db03a1-470f-4281-aec8-f380a2042df3",
      "metadata": {
        "id": "96db03a1-470f-4281-aec8-f380a2042df3",
        "outputId": "dcb1d733-59e2-4519-aede-29476dcc3736",
        "colab": {
          "base_uri": "https://localhost:8080/"
        }
      },
      "outputs": [
        {
          "output_type": "execute_result",
          "data": {
            "text/plain": [
              "tensor([[-1.53, -0.75, -0.65,  ..., -1.61, -0.71,  0.30],\n",
              "        [-0.78, -0.25, -0.22,  ..., -1.16,  0.70,  0.20],\n",
              "        [ 0.87,  0.24, -0.66,  ..., -1.45,  0.06, -0.62],\n",
              "        ...,\n",
              "        [ 0.51,  0.47, -0.26,  ...,  0.65,  0.43, -1.29],\n",
              "        [ 0.52,  1.03,  0.81,  ..., -0.10,  2.26, -0.28],\n",
              "        [-1.49,  0.39, -0.55,  ..., -0.19, -0.51,  0.54]])"
            ]
          },
          "metadata": {},
          "execution_count": 81
        }
      ],
      "source": [
        "torch.manual_seed(1)\n",
        "weights = torch.randn(784,10)\n",
        "weights"
      ]
    },
    {
      "cell_type": "markdown",
      "id": "e27dd979-a35d-43a8-9b72-9918a2f7fb6c",
      "metadata": {
        "id": "e27dd979-a35d-43a8-9b72-9918a2f7fb6c"
      },
      "source": [
        "### Python matmul"
      ]
    },
    {
      "cell_type": "code",
      "execution_count": 113,
      "id": "eb141f6e-9813-44cc-b153-ccad49347648",
      "metadata": {
        "id": "eb141f6e-9813-44cc-b153-ccad49347648",
        "outputId": "e58e4961-be4f-453d-dad4-95273d30aeca",
        "colab": {
          "base_uri": "https://localhost:8080/"
        }
      },
      "outputs": [
        {
          "output_type": "execute_result",
          "data": {
            "text/plain": [
              "(torch.Size([5, 784]), torch.Size([784, 10]))"
            ]
          },
          "metadata": {},
          "execution_count": 113
        }
      ],
      "source": [
        "m1 = torch.randn(5, 784)\n",
        "m2 = weights\n",
        "m1.shape,m2.shape"
      ]
    },
    {
      "cell_type": "code",
      "execution_count": 114,
      "id": "7247f303-e8fb-46eb-bbc9-abaa165f0ee3",
      "metadata": {
        "id": "7247f303-e8fb-46eb-bbc9-abaa165f0ee3",
        "outputId": "cd6562e0-78a4-47bf-e850-e4675ac3cf7b",
        "colab": {
          "base_uri": "https://localhost:8080/"
        }
      },
      "outputs": [
        {
          "output_type": "execute_result",
          "data": {
            "text/plain": [
              "((5, 784), (784, 10))"
            ]
          },
          "metadata": {},
          "execution_count": 114
        }
      ],
      "source": [
        "ar,ac = m1.shape # n_rows * n_cols\n",
        "br,bc = m2.shape\n",
        "(ar,ac),(br,bc)"
      ]
    },
    {
      "cell_type": "code",
      "execution_count": 116,
      "id": "3f71d055-b2ec-4e9f-87f1-1d1da5937452",
      "metadata": {
        "id": "3f71d055-b2ec-4e9f-87f1-1d1da5937452",
        "outputId": "a0f7ba5e-6e2c-4d82-d8c6-cc6d2b5b3488",
        "colab": {
          "base_uri": "https://localhost:8080/"
        }
      },
      "outputs": [
        {
          "output_type": "execute_result",
          "data": {
            "text/plain": [
              "torch.Size([5, 10])"
            ]
          },
          "metadata": {},
          "execution_count": 116
        }
      ],
      "source": [
        "t1 = torch.zeros(ar, bc)\n",
        "t1.shape"
      ]
    },
    {
      "cell_type": "code",
      "execution_count": 117,
      "id": "034e2c1c-b8d9-4869-b62a-975c4d061895",
      "metadata": {
        "id": "034e2c1c-b8d9-4869-b62a-975c4d061895"
      },
      "outputs": [],
      "source": [
        "for i in range(ar):         # 5\n",
        "    for j in range(bc):     # 10\n",
        "        for k in range(ac): # 784\n",
        "            t1[i,j] += m1[i,k] * m2[k,j]"
      ]
    },
    {
      "cell_type": "code",
      "execution_count": 118,
      "id": "680b7e85-bef0-4afd-896a-01cbfe4c335e",
      "metadata": {
        "id": "680b7e85-bef0-4afd-896a-01cbfe4c335e",
        "outputId": "f851fdb7-cef2-4019-cc92-f43319b1f780",
        "colab": {
          "base_uri": "https://localhost:8080/"
        }
      },
      "outputs": [
        {
          "output_type": "execute_result",
          "data": {
            "text/plain": [
              "torch.Size([5, 10])"
            ]
          },
          "metadata": {},
          "execution_count": 118
        }
      ],
      "source": [
        "t1.shape"
      ]
    },
    {
      "cell_type": "code",
      "execution_count": 119,
      "id": "fac45192-62e2-4245-b0aa-a4ba00e3f47f",
      "metadata": {
        "id": "fac45192-62e2-4245-b0aa-a4ba00e3f47f"
      },
      "outputs": [],
      "source": [
        "import numpy as np\n",
        "np.set_printoptions(precision=2, linewidth=140)\n",
        "torch.set_printoptions(precision=2, linewidth=140, sci_mode=False)"
      ]
    },
    {
      "cell_type": "code",
      "execution_count": 120,
      "id": "bef8a62a-e188-4dd0-8b98-b7a37d3888ba",
      "metadata": {
        "id": "bef8a62a-e188-4dd0-8b98-b7a37d3888ba",
        "outputId": "30b69789-dcc3-4959-c6ef-5c38ef314953",
        "colab": {
          "base_uri": "https://localhost:8080/"
        }
      },
      "outputs": [
        {
          "output_type": "execute_result",
          "data": {
            "text/plain": [
              "tensor([[ -2.96,  -7.03,  26.43,  -4.98,  -1.75,  30.36, -30.21,   9.64,   0.34, -30.28],\n",
              "        [ -1.93, -19.66, -14.86, -87.22,  26.14,  48.94,  42.18, -28.02, -34.93,  16.13],\n",
              "        [ -6.34,  -2.34,   8.88,  -3.85, -56.96, -35.07,   1.56,  -0.48, -38.84, -36.10],\n",
              "        [-18.06,  -7.81,  19.90,  -7.21,  -6.16, -21.42, -21.30,  60.35, -26.90, -52.29],\n",
              "        [-16.04,  38.37,  49.53,  19.45,  11.70, -18.82,   2.46,  -6.98, -32.79,   0.50]])"
            ]
          },
          "metadata": {},
          "execution_count": 120
        }
      ],
      "source": [
        "t1"
      ]
    },
    {
      "cell_type": "code",
      "execution_count": 121,
      "id": "09804bc3-43e8-463b-8365-e962907ab088",
      "metadata": {
        "id": "09804bc3-43e8-463b-8365-e962907ab088"
      },
      "outputs": [],
      "source": [
        "def matmul(a,b):\n",
        "    (ar,ac),(br,bc) = a.shape,b.shape\n",
        "    c = torch.zeros(ar, bc)\n",
        "    for i in range(ar):\n",
        "        for j in range(bc):\n",
        "            for k in range(ac): c[i,j] += a[i,k] * b[k,j]\n",
        "    return c"
      ]
    },
    {
      "cell_type": "code",
      "execution_count": 122,
      "id": "d7d64a58-5422-4e2e-af1c-16f1cbdab391",
      "metadata": {
        "id": "d7d64a58-5422-4e2e-af1c-16f1cbdab391",
        "outputId": "c427036f-f4fa-4cf5-ae1b-5cee9cdeccdf",
        "colab": {
          "base_uri": "https://localhost:8080/"
        }
      },
      "outputs": [
        {
          "output_type": "stream",
          "name": "stdout",
          "text": [
            "CPU times: user 768 ms, sys: 2.36 ms, total: 770 ms\n",
            "Wall time: 771 ms\n"
          ]
        }
      ],
      "source": [
        "%time _=matmul(m1, m2)"
      ]
    },
    {
      "cell_type": "code",
      "execution_count": 123,
      "id": "0fb0c5e7-d01a-4900-a32e-eb6424f8439c",
      "metadata": {
        "id": "0fb0c5e7-d01a-4900-a32e-eb6424f8439c",
        "outputId": "bc52a832-1730-4243-b59f-bbc58e715567",
        "colab": {
          "base_uri": "https://localhost:8080/"
        }
      },
      "outputs": [
        {
          "output_type": "execute_result",
          "data": {
            "text/plain": [
              "39200"
            ]
          },
          "metadata": {},
          "execution_count": 123
        }
      ],
      "source": [
        "ar*bc*ac"
      ]
    },
    {
      "cell_type": "markdown",
      "id": "b4ac4099-e90d-4f19-a6e2-a24df81c9739",
      "metadata": {
        "id": "b4ac4099-e90d-4f19-a6e2-a24df81c9739"
      },
      "source": [
        "### 2d Python kernel"
      ]
    },
    {
      "cell_type": "code",
      "execution_count": 124,
      "id": "434e5f38-5da2-4bac-9d95-e9d2b2042ff2",
      "metadata": {
        "id": "434e5f38-5da2-4bac-9d95-e9d2b2042ff2"
      },
      "outputs": [],
      "source": [
        "from types import SimpleNamespace as ns"
      ]
    },
    {
      "cell_type": "code",
      "execution_count": 125,
      "id": "2ef592ed-b605-46f5-b72d-662ab46a55e8",
      "metadata": {
        "id": "2ef592ed-b605-46f5-b72d-662ab46a55e8"
      },
      "outputs": [],
      "source": [
        "def blk_kernel2d(f, blocks, threads, *args):\n",
        "    for i0 in range(blocks.y):\n",
        "        for i1 in range(blocks.x):\n",
        "            for j0 in range(threads.y):\n",
        "                for j1 in range(threads.x): f(ns(x=i1,y=i0), ns(x=j1,y=j0), threads, *args)"
      ]
    },
    {
      "cell_type": "code",
      "execution_count": 126,
      "id": "62f8923f-8072-4f52-a644-6576f7dfe352",
      "metadata": {
        "id": "62f8923f-8072-4f52-a644-6576f7dfe352"
      },
      "outputs": [],
      "source": [
        "def matmul_bk(blockidx, threadidx, blockdim, m, n, out, h, w, k):\n",
        "    r = blockidx.y*blockdim.y + threadidx.y\n",
        "    c = blockidx.x*blockdim.x + threadidx.x\n",
        "\n",
        "    if (r>=h or c>=w): return\n",
        "    o = 0.\n",
        "    for i in range(k): o += m[r*k+i] * n[i*w+c]\n",
        "    out[r*w+c] = o"
      ]
    },
    {
      "cell_type": "code",
      "execution_count": 127,
      "id": "a53c2202-1169-4ac6-a477-82b82f3c5201",
      "metadata": {
        "id": "a53c2202-1169-4ac6-a477-82b82f3c5201"
      },
      "outputs": [],
      "source": [
        "def matmul_2d(m, n):\n",
        "    h,k  = m.shape\n",
        "    k2,w = n.shape\n",
        "    assert k==k2, \"Size mismatch!\"\n",
        "    output = torch.zeros(h, w, dtype=m.dtype)\n",
        "    tpb = ns(x=16,y=16)\n",
        "    blocks = ns(x=math.ceil(w/tpb.x), y=math.ceil(h/tpb.y))\n",
        "    blk_kernel2d(matmul_bk, blocks, tpb,\n",
        "                 m.flatten(), n.flatten(), output.flatten(), h, w, k)\n",
        "    return output"
      ]
    },
    {
      "cell_type": "code",
      "execution_count": 128,
      "id": "dc868ac2-7e60-4a1e-8bba-b40e452b6ef9",
      "metadata": {
        "id": "dc868ac2-7e60-4a1e-8bba-b40e452b6ef9",
        "outputId": "33cdf274-5a6d-4c9b-9144-886059828979",
        "colab": {
          "base_uri": "https://localhost:8080/"
        }
      },
      "outputs": [
        {
          "output_type": "execute_result",
          "data": {
            "text/plain": [
              "tensor(True)"
            ]
          },
          "metadata": {},
          "execution_count": 128
        }
      ],
      "source": [
        "res = matmul_2d(m1, m2)\n",
        "torch.isclose(t1, res).all()"
      ]
    },
    {
      "cell_type": "markdown",
      "id": "903ab09b-bb28-47c2-9c82-94863056c149",
      "metadata": {
        "id": "903ab09b-bb28-47c2-9c82-94863056c149"
      },
      "source": [
        "### Broadcasting"
      ]
    },
    {
      "cell_type": "code",
      "execution_count": 129,
      "id": "7b52029b-8570-4557-b162-d400f5b669d4",
      "metadata": {
        "id": "7b52029b-8570-4557-b162-d400f5b669d4"
      },
      "outputs": [],
      "source": [
        "def matmul(a,b):\n",
        "    (ar,ac),(br,bc) = a.shape,b.shape\n",
        "    c = torch.zeros(ar, bc)\n",
        "    for i in range(ar): c[i] = (a[i,:,None] * b).sum(dim=0)\n",
        "    return c"
      ]
    },
    {
      "cell_type": "code",
      "execution_count": 130,
      "id": "10e2bda8-4823-459a-b618-82b9b20c8308",
      "metadata": {
        "id": "10e2bda8-4823-459a-b618-82b9b20c8308",
        "outputId": "110fc287-2fdd-4b37-daff-a2bd1d247b97",
        "colab": {
          "base_uri": "https://localhost:8080/"
        }
      },
      "outputs": [
        {
          "output_type": "execute_result",
          "data": {
            "text/plain": [
              "tensor(False)"
            ]
          },
          "metadata": {},
          "execution_count": 130
        }
      ],
      "source": [
        "torch.isclose(t1,matmul(m1, m2)).all()"
      ]
    },
    {
      "cell_type": "code",
      "execution_count": 131,
      "id": "f4bbd2b4-b79a-41fe-a3de-ecb0673503b3",
      "metadata": {
        "id": "f4bbd2b4-b79a-41fe-a3de-ecb0673503b3",
        "outputId": "581b33fe-7a95-4702-a058-488afd54b324",
        "colab": {
          "base_uri": "https://localhost:8080/"
        }
      },
      "outputs": [
        {
          "output_type": "stream",
          "name": "stdout",
          "text": [
            "CPU times: user 518 µs, sys: 0 ns, total: 518 µs\n",
            "Wall time: 527 µs\n"
          ]
        }
      ],
      "source": [
        "%time _=matmul(m1, m2)"
      ]
    },
    {
      "cell_type": "code",
      "execution_count": 132,
      "id": "88649ae9-4056-450f-bdfa-4d30a7183248",
      "metadata": {
        "id": "88649ae9-4056-450f-bdfa-4d30a7183248",
        "outputId": "5e7ca2ed-da62-41cc-e47f-1a931b814d91",
        "colab": {
          "base_uri": "https://localhost:8080/"
        }
      },
      "outputs": [
        {
          "output_type": "execute_result",
          "data": {
            "text/plain": [
              "torch.Size([50000, 10])"
            ]
          },
          "metadata": {},
          "execution_count": 132
        }
      ],
      "source": [
        "m1 = x_train\n",
        "tr = matmul(m1, m2)\n",
        "tr.shape"
      ]
    },
    {
      "cell_type": "code",
      "execution_count": 133,
      "id": "3a5dffcd-1cfd-423e-9e71-e83e59a7dca3",
      "metadata": {
        "id": "3a5dffcd-1cfd-423e-9e71-e83e59a7dca3",
        "outputId": "5ea5a5a0-cf76-4a31-9db8-623f1748383a",
        "colab": {
          "base_uri": "https://localhost:8080/"
        }
      },
      "outputs": [
        {
          "output_type": "stream",
          "name": "stdout",
          "text": [
            "CPU times: user 1.27 s, sys: 6.79 ms, total: 1.27 s\n",
            "Wall time: 1.27 s\n"
          ]
        }
      ],
      "source": [
        "%time _=matmul(m1, m2)"
      ]
    },
    {
      "cell_type": "code",
      "execution_count": 134,
      "id": "d84742e1-4094-433d-97bd-7932482a63c1",
      "metadata": {
        "id": "d84742e1-4094-433d-97bd-7932482a63c1",
        "outputId": "45c4d5ee-dd2e-459f-949e-148a8228ab69",
        "colab": {
          "base_uri": "https://localhost:8080/"
        }
      },
      "outputs": [
        {
          "output_type": "execute_result",
          "data": {
            "text/plain": [
              "392000000"
            ]
          },
          "metadata": {},
          "execution_count": 134
        }
      ],
      "source": [
        "ar,ac = m1.shape\n",
        "br,bc = m2.shape\n",
        "ar*bc*ac"
      ]
    },
    {
      "cell_type": "markdown",
      "id": "af01b572-c0aa-41b0-8ba7-b48e3f899978",
      "metadata": {
        "id": "af01b572-c0aa-41b0-8ba7-b48e3f899978"
      },
      "source": [
        "### CUDA matmul"
      ]
    },
    {
      "cell_type": "code",
      "execution_count": 135,
      "id": "6dde8ea4-25c3-48fd-97d3-7a0d375dcd73",
      "metadata": {
        "id": "6dde8ea4-25c3-48fd-97d3-7a0d375dcd73"
      },
      "outputs": [],
      "source": [
        "cuda_src = cuda_begin + r'''\n",
        "__global__ void matmul_k(float* m, float* n, float* out, int h, int w, int k) {\n",
        "    int r = blockIdx.y*blockDim.y + threadIdx.y;\n",
        "    int c = blockIdx.x*blockDim.x + threadIdx.x;\n",
        "\n",
        "    if (r>=h || c>=w) return;\n",
        "    float o = 0;\n",
        "    for (int i = 0; i<k; ++i) o += m[r*k+i] * n[i*w+c];\n",
        "    out[r*w+c] = o;\n",
        "}\n",
        "\n",
        "torch::Tensor matmul(torch::Tensor m, torch::Tensor n) {\n",
        "    CHECK_INPUT(m); CHECK_INPUT(n);\n",
        "    int h = m.size(0);\n",
        "    int w = n.size(1);\n",
        "    int k = m.size(1);\n",
        "    TORCH_CHECK(k==n.size(0), \"Size mismatch!\");\n",
        "    auto output = torch::zeros({h, w}, m.options());\n",
        "\n",
        "    dim3 tpb(16,16);\n",
        "    dim3 blocks(cdiv(w, tpb.x), cdiv(h, tpb.y));\n",
        "    matmul_k<<<blocks, tpb>>>(\n",
        "        m.data_ptr<float>(), n.data_ptr<float>(), output.data_ptr<float>(), h, w, k);\n",
        "    C10_CUDA_KERNEL_LAUNCH_CHECK();\n",
        "    return output;\n",
        "}\n",
        "'''"
      ]
    },
    {
      "cell_type": "code",
      "execution_count": 136,
      "id": "0de6d749-3922-4a30-a00a-60f153d59907",
      "metadata": {
        "id": "0de6d749-3922-4a30-a00a-60f153d59907"
      },
      "outputs": [],
      "source": [
        "cpp_src = \"torch::Tensor matmul(torch::Tensor m, torch::Tensor n);\""
      ]
    },
    {
      "cell_type": "code",
      "execution_count": 137,
      "id": "25c0b6ea-c5cf-4bab-9f46-1de103e5ae68",
      "metadata": {
        "id": "25c0b6ea-c5cf-4bab-9f46-1de103e5ae68"
      },
      "outputs": [],
      "source": [
        "module = load_cuda(cuda_src, cpp_src, ['matmul'])"
      ]
    },
    {
      "cell_type": "code",
      "execution_count": 138,
      "id": "49b0aa26-b9b6-4f5b-8223-5d6afad88bfa",
      "metadata": {
        "id": "49b0aa26-b9b6-4f5b-8223-5d6afad88bfa"
      },
      "outputs": [],
      "source": [
        "m1c,m2c = m1.contiguous().cuda(), m2.contiguous().cuda()"
      ]
    },
    {
      "cell_type": "code",
      "execution_count": 139,
      "id": "09d45a98-0d7f-4e0e-b704-f979e53550cb",
      "metadata": {
        "id": "09d45a98-0d7f-4e0e-b704-f979e53550cb",
        "colab": {
          "base_uri": "https://localhost:8080/"
        },
        "outputId": "51e0a3d1-545a-479e-99b4-0ca0446957c5"
      },
      "outputs": [
        {
          "output_type": "execute_result",
          "data": {
            "text/plain": [
              "tensor(True)"
            ]
          },
          "metadata": {},
          "execution_count": 139
        }
      ],
      "source": [
        "torch.isclose(tr,module.matmul(m1c, m2c).cpu(), atol=1e-5).all()"
      ]
    },
    {
      "cell_type": "code",
      "execution_count": 140,
      "id": "5342f1f0-8684-4d6c-814f-ab4b10995ad3",
      "metadata": {
        "id": "5342f1f0-8684-4d6c-814f-ab4b10995ad3",
        "colab": {
          "base_uri": "https://localhost:8080/"
        },
        "outputId": "87478a5d-325f-4459-fe5d-b3634e49504b"
      },
      "outputs": [
        {
          "output_type": "stream",
          "name": "stdout",
          "text": [
            "CPU times: user 6.56 ms, sys: 0 ns, total: 6.56 ms\n",
            "Wall time: 5.83 ms\n"
          ]
        },
        {
          "output_type": "execute_result",
          "data": {
            "text/plain": [
              "torch.Size([50000, 10])"
            ]
          },
          "metadata": {},
          "execution_count": 140
        }
      ],
      "source": [
        "%%time\n",
        "res=module.matmul(m1c, m2c).cpu()\n",
        "res.shape"
      ]
    },
    {
      "cell_type": "markdown",
      "id": "4c9bee22-2600-4f6c-a695-e6d9f0ee2177",
      "metadata": {
        "id": "4c9bee22-2600-4f6c-a695-e6d9f0ee2177"
      },
      "source": [
        "### Pytorch"
      ]
    },
    {
      "cell_type": "code",
      "execution_count": 141,
      "id": "44eb1f44-611d-4270-8054-4cd4217d3305",
      "metadata": {
        "id": "44eb1f44-611d-4270-8054-4cd4217d3305",
        "colab": {
          "base_uri": "https://localhost:8080/"
        },
        "outputId": "e49b4c35-1a33-4fa8-b7c1-dc0d7eda7358"
      },
      "outputs": [
        {
          "output_type": "execute_result",
          "data": {
            "text/plain": [
              "tensor(True)"
            ]
          },
          "metadata": {},
          "execution_count": 141
        }
      ],
      "source": [
        "torch.isclose(tr,(m1c@m2c).cpu(), atol=1e-5).all()"
      ]
    },
    {
      "cell_type": "code",
      "execution_count": 142,
      "id": "3d25db36-fad7-4678-9657-cc4efb874276",
      "metadata": {
        "id": "3d25db36-fad7-4678-9657-cc4efb874276",
        "colab": {
          "base_uri": "https://localhost:8080/"
        },
        "outputId": "1be28532-103b-44fe-d357-e3fcee05aedf"
      },
      "outputs": [
        {
          "output_type": "stream",
          "name": "stdout",
          "text": [
            "2.06 ms ± 54.7 µs per loop (mean ± std. dev. of 7 runs, 10 loops each)\n"
          ]
        }
      ],
      "source": [
        "%timeit -n 10 _=(m1c@m2c).cpu()"
      ]
    }
  ],
  "metadata": {
    "kernelspec": {
      "display_name": "Python 3",
      "name": "python3"
    },
    "colab": {
      "provenance": [],
      "gpuType": "T4",
      "include_colab_link": true
    },
    "accelerator": "GPU"
  },
  "nbformat": 4,
  "nbformat_minor": 5
}